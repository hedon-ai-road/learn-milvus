{
 "cells": [
  {
   "cell_type": "code",
   "execution_count": 2,
   "metadata": {},
   "outputs": [],
   "source": [
    "from pymilvus import MilvusClient, DataType\n",
    "from dotenv import load_dotenv\n",
    "import os\n",
    "\n",
    "load_dotenv()\n",
    "# https://milvus.io/docs/quickstart.md\n",
    "\n",
    "client = MilvusClient(\n",
    "    uri=os.getenv(\"MILVUS_URI\"),\n",
    "    user=os.getenv(\"MILVUS_USER\"),\n",
    "    password=os.getenv(\"MILVUS_PWD\"),\n",
    ")"
   ]
  },
  {
   "cell_type": "code",
   "execution_count": 3,
   "metadata": {},
   "outputs": [
    {
     "name": "stdout",
     "output_type": "stream",
     "text": [
      "{'insert_count': 10, 'ids': [0, 1, 2, 3, 4, 5, 6, 7, 8, 9], 'cost': 1}\n"
     ]
    }
   ],
   "source": [
    "# enable dynamic field\n",
    "client.create_collection(\n",
    "    collection_name=\"my_col_for_dynamic_field\",\n",
    "    dimension=5,\n",
    "    enable_dynamic_field=True,\n",
    ")\n",
    "\n",
    "# insert data\n",
    "data = [\n",
    "    {\"id\": 0, \"vector\": [0.3580376395471989, -0.6023495712049978, 0.18414012509913835, -\n",
    "                         0.26286205330961354, 0.9029438446296592], \"color\": \"pink_8682\"},\n",
    "    {\"id\": 1, \"vector\": [0.19886812562848388, 0.06023560599112088, 0.6976963061752597,\n",
    "                         0.2614474506242501, 0.838729485096104], \"color\": \"red_7025\"},\n",
    "    {\"id\": 2, \"vector\": [0.43742130801983836, -0.5597502546264526, 0.6457887650909682,\n",
    "                         0.7894058910881185, 0.20785793220625592], \"color\": \"orange_6781\"},\n",
    "    {\"id\": 3, \"vector\": [0.3172005263489739, 0.9719044792798428, -\n",
    "                         0.36981146090600725, -0.4860894583077995, 0.95791889146345], \"color\": \"pink_9298\"},\n",
    "    {\"id\": 4, \"vector\": [0.4452349528804562, -0.8757026943054742, 0.8220779437047674,\n",
    "                         0.46406290649483184, 0.30337481143159106], \"color\": \"red_4794\"},\n",
    "    {\"id\": 5, \"vector\": [0.985825131989184, -0.8144651566660419, 0.6299267002202009,\n",
    "                         0.1206906911183383, -0.1446277761879955], \"color\": \"yellow_4222\"},\n",
    "    {\"id\": 6, \"vector\": [0.8371977790571115, -0.015764369584852833, -\n",
    "                         0.31062937026679327, -0.562666951622192, -0.8984947637863987], \"color\": \"red_9392\"},\n",
    "    {\"id\": 7, \"vector\": [-0.33445148015177995, -0.2567135004164067, 0.8987539745369246,\n",
    "                         0.9402995886420709, 0.5378064918413052], \"color\": \"grey_8510\"},\n",
    "    {\"id\": 8, \"vector\": [0.39524717779832685, 0.4000257286739164, -0.5890507376891594, -\n",
    "                         0.8650502298996872, -0.6140360785406336], \"color\": \"white_9381\"},\n",
    "    {\"id\": 9, \"vector\": [0.5718280481994695, 0.24070317428066512, -0.3737913482606834, -\n",
    "                         0.06726932177492717, -0.6980531615588608], \"color\": \"purple_4976\"}\n",
    "]\n",
    "\n",
    "res = client.insert(\n",
    "    collection_name=\"my_col_for_dynamic_field\",\n",
    "    data=data,\n",
    ")\n",
    "print(res)"
   ]
  },
  {
   "cell_type": "code",
   "execution_count": 4,
   "metadata": {},
   "outputs": [],
   "source": [
    "# index a scalar field in the dynamic field\n",
    "index_params = client.prepare_index_params()\n",
    "index_params.add_index(\n",
    "    field_name=\"color\",\n",
    "    index_type=\"INVERTED\",\n",
    "    index_name=\"color_index\",\n",
    "    params={\n",
    "        \"json_path\": \"color\",\n",
    "        \"json_cast_type\": \"varchar\",\n",
    "    }\n",
    ")\n",
    "\n",
    "client.create_index(\n",
    "    collection_name=\"my_col_for_dynamic_field\",\n",
    "    index_params=index_params,\n",
    ")"
   ]
  },
  {
   "cell_type": "code",
   "execution_count": 5,
   "metadata": {},
   "outputs": [
    {
     "name": "stdout",
     "output_type": "stream",
     "text": [
      "data: [[{'id': 1, 'distance': 0.6290165185928345, 'entity': {'color': 'red_7025'}}, {'id': 4, 'distance': 0.5975796580314636, 'entity': {'color': 'red_4794'}}, {'id': 6, 'distance': -0.24996185302734375, 'entity': {'color': 'red_9392'}}]],{'cost': 6}\n"
     ]
    }
   ],
   "source": [
    "# query and search with dynamic field\n",
    "query_vector = [0.3580376395471989, -0.6023495712049978,\n",
    "                0.18414012509913835, -0.26286205330961354, 0.9029438446296592]\n",
    "\n",
    "res = client.search(\n",
    "    collection_name=\"my_col_for_dynamic_field\",\n",
    "    data=[query_vector],\n",
    "    limit=5,\n",
    "    filter='color like \"red%\"',\n",
    "    output_fields=[\"color\"]\n",
    ")\n",
    "\n",
    "print(res)"
   ]
  }
 ],
 "metadata": {
  "kernelspec": {
   "display_name": ".venv",
   "language": "python",
   "name": "python3"
  },
  "language_info": {
   "codemirror_mode": {
    "name": "ipython",
    "version": 3
   },
   "file_extension": ".py",
   "mimetype": "text/x-python",
   "name": "python",
   "nbconvert_exporter": "python",
   "pygments_lexer": "ipython3",
   "version": "3.12.4"
  }
 },
 "nbformat": 4,
 "nbformat_minor": 2
}
