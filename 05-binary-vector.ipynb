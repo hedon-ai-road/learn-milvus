{
 "cells": [
  {
   "cell_type": "code",
   "execution_count": 2,
   "metadata": {},
   "outputs": [],
   "source": [
    "from pymilvus import MilvusClient, DataType\n",
    "from dotenv import load_dotenv\n",
    "import os\n",
    "\n",
    "load_dotenv()\n",
    "# https://milvus.io/docs/quickstart.md\n",
    "\n",
    "client = MilvusClient(\n",
    "    uri=os.getenv(\"MILVUS_URI\"),\n",
    "    user=os.getenv(\"MILVUS_USER\"),\n",
    "    password=os.getenv(\"MILVUS_PWD\"),\n",
    ")"
   ]
  },
  {
   "cell_type": "code",
   "execution_count": 6,
   "metadata": {},
   "outputs": [
    {
     "data": {
      "text/plain": [
       "{'insert_count': 1, 'ids': ['458312171707656147'], 'cost': 1}"
      ]
     },
     "execution_count": 6,
     "metadata": {},
     "output_type": "execute_result"
    }
   ],
   "source": [
    "# create schema\n",
    "schema = client.create_schema(\n",
    "    auto_id=True,\n",
    "    enbale_dynamic_fields=True,\n",
    ")\n",
    "schema.add_field(\n",
    "    field_name=\"pk\",\n",
    "    datatype=DataType.VARCHAR,\n",
    "    is_primary=True,\n",
    "    max_length=100\n",
    ")\n",
    "schema.add_field(\n",
    "    field_name=\"binary_vector\",\n",
    "    datatype=DataType.BINARY_VECTOR,\n",
    "    dim=128,\n",
    ")\n",
    "\n",
    "# create index params\n",
    "index_params = client.prepare_index_params()\n",
    "index_params.add_index(\n",
    "    field_name=\"binary_vector\",\n",
    "    index_name=\"binary_vector_index\",\n",
    "    index_type=\"AUTOINDEX\",\n",
    "    metric_type=\"HAMMING\",\n",
    ")\n",
    "\n",
    "# create collection\n",
    "client.create_collection(\n",
    "    collection_name=\"my_col_for_binary_vector\",\n",
    "    schema=schema,\n",
    "    index_params=index_params,\n",
    ")\n",
    "\n",
    "# insert data\n",
    "def convert_bool_list_to_bytes(bool_list):\n",
    "    if len(bool_list)%8 != 0:\n",
    "        raise ValueError(\"The length of a boolean list must be a multiple of 8\")\n",
    "    \n",
    "    byte_array = bytearray(len(bool_list) // 8)\n",
    "    for i, bit in enumerate(bool_list):\n",
    "        if bit == 1:\n",
    "            index = i // 8\n",
    "            shift = i % 8\n",
    "            byte_array[index] |= (1 << shift)\n",
    "    return bytes(byte_array)\n",
    "\n",
    "bool_vectors = [\n",
    "    [1, 0, 0, 1, 1, 0, 1, 1, 0, 1, 0, 1, 0, 1, 0, 0] + [0] * 112,\n",
    "    [0, 1, 0, 1, 0, 1, 0, 0, 1, 1, 0, 0, 1, 1, 0, 1] + [0] * 112,\n",
    "]\n",
    "\n",
    "data = [{\"binary_vector\": convert_bool_list_to_bytes(bool_vector) for bool_vector in bool_vectors}]\n",
    "\n",
    "client.insert(\n",
    "    collection_name=\"my_col_for_binary_vector\",\n",
    "    data=data,\n",
    ")"
   ]
  },
  {
   "cell_type": "code",
   "execution_count": 7,
   "metadata": {},
   "outputs": [
    {
     "name": "stdout",
     "output_type": "stream",
     "text": [
      "data: [[{'pk': '458312171707656147', 'distance': 10.0, 'entity': {'pk': '458312171707656147'}}]],{'cost': 6}\n"
     ]
    }
   ],
   "source": [
    "# perform similarity search\n",
    "search_params = {\n",
    "    \"params\": {\"nprobe\": 10}\n",
    "}\n",
    "\n",
    "query_bool_list = [1, 0, 0, 1, 1, 0, 1, 1, 0, 1, 0, 1, 0, 1, 0, 0] + [0] * 112\n",
    "query_vector = convert_bool_list_to_bytes(query_bool_list)\n",
    "\n",
    "res = client.search(\n",
    "    collection_name=\"my_col_for_binary_vector\",\n",
    "    data=[query_vector],\n",
    "    anns_field=\"binary_vector\",\n",
    "    search_params=search_params,\n",
    "    limit=5,\n",
    "    output_fields=[\"pk\"],\n",
    ")\n",
    "\n",
    "print(res)"
   ]
  }
 ],
 "metadata": {
  "kernelspec": {
   "display_name": ".venv",
   "language": "python",
   "name": "python3"
  },
  "language_info": {
   "codemirror_mode": {
    "name": "ipython",
    "version": 3
   },
   "file_extension": ".py",
   "mimetype": "text/x-python",
   "name": "python",
   "nbconvert_exporter": "python",
   "pygments_lexer": "ipython3",
   "version": "3.12.4"
  }
 },
 "nbformat": 4,
 "nbformat_minor": 2
}
