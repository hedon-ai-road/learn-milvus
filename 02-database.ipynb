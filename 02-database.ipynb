{
 "cells": [
  {
   "cell_type": "code",
   "execution_count": null,
   "metadata": {},
   "outputs": [],
   "source": [
    "from pymilvus import MilvusClient, model\n",
    "from dotenv import load_dotenv\n",
    "import os\n",
    "\n",
    "load_dotenv()\n",
    "# https://milvus.io/docs/quickstart.md\n",
    "\n",
    "client = MilvusClient(\n",
    "    uri=os.getenv(\"MILVUS_URI\"),\n",
    "    user=os.getenv(\"MILVUS_USER\"),\n",
    "    password=os.getenv(\"MILVUS_PWD\"),\n",
    ")\n",
    "\n",
    "print(\"start\")\n",
    "\n",
    "# create database\n",
    "client.create_database(\n",
    "    db_name=\"my_database_1\",\n",
    "    properties={\n",
    "        \"database.replica.number\": 3,\n",
    "    }\n",
    ")\n",
    "\n",
    "# list database\n",
    "dbs = client.list_databases()\n",
    "print(\"==== database list ====\")\n",
    "print(dbs)\n",
    "\n",
    "# describe database\n",
    "db_info = client.describe_database(\n",
    "    db_name=\"my_database_1\"\n",
    ")\n",
    "print(\"==== my_database_1 detail ====\")\n",
    "print(db_info)"
   ]
  }
 ],
 "metadata": {
  "kernelspec": {
   "display_name": ".venv",
   "language": "python",
   "name": "python3"
  },
  "language_info": {
   "codemirror_mode": {
    "name": "ipython",
    "version": 3
   },
   "file_extension": ".py",
   "mimetype": "text/x-python",
   "name": "python",
   "nbconvert_exporter": "python",
   "pygments_lexer": "ipython3",
   "version": "3.12.4"
  }
 },
 "nbformat": 4,
 "nbformat_minor": 2
}
