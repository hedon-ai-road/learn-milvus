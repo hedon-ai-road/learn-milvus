{
 "cells": [
  {
   "cell_type": "code",
   "execution_count": null,
   "metadata": {},
   "outputs": [
    {
     "name": "stderr",
     "output_type": "stream",
     "text": [
      "/Users/wangjiahan/mycode/python/learn-milvus/.venv/lib/python3.12/site-packages/tqdm/auto.py:21: TqdmWarning: IProgress not found. Please update jupyter and ipywidgets. See https://ipywidgets.readthedocs.io/en/stable/user_install.html\n",
      "  from .autonotebook import tqdm as notebook_tqdm\n"
     ]
    }
   ],
   "source": [
    "from pymilvus import MilvusClient\n",
    "from dotenv import load_dotenv\n",
    "import os\n",
    "\n",
    "load_dotenv()\n",
    "# https://milvus.io/docs/quickstart.md\n",
    "\n",
    "client = MilvusClient(\n",
    "    uri=os.getenv(\"MILVUS_URI\"),\n",
    "    user=os.getenv(\"MILVUS_USER\"),\n",
    "    password=os.getenv(\"MILVUS_PWD\"),\n",
    ")"
   ]
  },
  {
   "cell_type": "code",
   "execution_count": 6,
   "metadata": {},
   "outputs": [
    {
     "data": {
      "text/plain": [
       "{'auto_id': False, 'description': '', 'fields': [{'name': 'my_id', 'description': '', 'type': <DataType.INT64: 5>, 'is_primary': True, 'auto_id': False}, {'name': 'my_vector', 'description': '', 'type': <DataType.FLOAT16_VECTOR: 102>, 'params': {'dim': 5}}, {'name': 'my_varchar', 'description': '', 'type': <DataType.VARCHAR: 21>, 'params': {'max_length': 512}}], 'enable_dynamic_field': True}"
      ]
     },
     "execution_count": 6,
     "metadata": {},
     "output_type": "execute_result"
    }
   ],
   "source": [
    "from pymilvus import DataType\n",
    "\n",
    "# create schema\n",
    "schema = client.create_schema(\n",
    "    auto_id=False,\n",
    "    enable_dynamic_field=True,\n",
    ")\n",
    "\n",
    "schema.add_field(field_name=\"my_id\", datatype=DataType.INT64, is_primary=True)\n",
    "schema.add_field(field_name=\"my_vector\", datatype=DataType.FLOAT16_VECTOR, dim=5)\n",
    "schema.add_field(field_name=\"my_varchar\", datatype=DataType.VARCHAR, max_length=512)"
   ]
  },
  {
   "cell_type": "code",
   "execution_count": 7,
   "metadata": {},
   "outputs": [],
   "source": [
    "# set index parameters\n",
    "\n",
    "index_params = client.prepare_index_params()\n",
    "\n",
    "index_params.add_index(\n",
    "    field_name=\"my_id\",\n",
    "    index_type=\"AUTOINDEX\"\n",
    ")\n",
    "\n",
    "index_params.add_index(\n",
    "    field_name=\"my_vector\",\n",
    "    index_type=\"AUTOINDEX\",\n",
    "    metric_type=\"COSINE\"\n",
    ")"
   ]
  },
  {
   "cell_type": "code",
   "execution_count": 8,
   "metadata": {},
   "outputs": [
    {
     "name": "stdout",
     "output_type": "stream",
     "text": [
      "{'state': <LoadState: Loaded>}\n"
     ]
    }
   ],
   "source": [
    "# create a collection\n",
    "client.create_collection(\n",
    "    collection_name=\"customized_setup_1\",\n",
    "    schema=schema,\n",
    "    index_params=index_params\n",
    ")\n",
    "\n",
    "res = client.get_load_state(\n",
    "    collection_name=\"customized_setup_1\"\n",
    ")\n",
    "\n",
    "print(res)"
   ]
  },
  {
   "cell_type": "code",
   "execution_count": 12,
   "metadata": {},
   "outputs": [
    {
     "name": "stdout",
     "output_type": "stream",
     "text": [
      "{'state': <LoadState: Loaded>}\n"
     ]
    }
   ],
   "source": [
    "if client.has_collection(collection_name=\"customized_setup_3\"):\n",
    "    client.drop_collection(collection_name=\"customized_setup_3\")\n",
    "\n",
    "# set collection properties\n",
    "client.create_collection(\n",
    "    collection_name=\"customized_setup_3\",\n",
    "    schema=schema,\n",
    "    index_params=index_params,\n",
    "    num_shards=1, # sharding\n",
    "    enable_mmap=True, # mmap\n",
    "    properties={\n",
    "        \"collecton.ttl.seconds\": 86400 # ttl\n",
    "    },\n",
    "    consistency_level=\"Bounded\", # consistency level\n",
    ")\n",
    "\n",
    "res = client.get_load_state(\n",
    "    collection_name=\"customized_setup_1\"\n",
    ")\n",
    "\n",
    "print(res)"
   ]
  },
  {
   "cell_type": "code",
   "execution_count": 13,
   "metadata": {},
   "outputs": [
    {
     "name": "stdout",
     "output_type": "stream",
     "text": [
      "['demo_collection', 'customized_setup_3', 'customized_setup_1']\n"
     ]
    }
   ],
   "source": [
    "# list collection\n",
    "res = client.list_collections()\n",
    "print(res)"
   ]
  },
  {
   "cell_type": "code",
   "execution_count": 14,
   "metadata": {},
   "outputs": [
    {
     "name": "stdout",
     "output_type": "stream",
     "text": [
      "{'collection_name': 'customized_setup_3', 'auto_id': False, 'num_shards': 1, 'description': '', 'fields': [{'field_id': 100, 'name': 'my_id', 'description': '', 'type': <DataType.INT64: 5>, 'params': {}, 'is_primary': True}, {'field_id': 101, 'name': 'my_vector', 'description': '', 'type': <DataType.FLOAT16_VECTOR: 102>, 'params': {'dim': 5}}, {'field_id': 102, 'name': 'my_varchar', 'description': '', 'type': <DataType.VARCHAR: 21>, 'params': {'max_length': 512}}], 'functions': [], 'aliases': [], 'collection_id': 458312171581037743, 'consistency_level': 2, 'properties': {'collecton.ttl.seconds': '86400'}, 'num_partitions': 1, 'enable_dynamic_field': True, 'created_timestamp': 458319723296194563}\n"
     ]
    }
   ],
   "source": [
    "# describe collection\n",
    "res = client.describe_collection(collection_name=\"customized_setup_3\")\n",
    "print(res)"
   ]
  }
 ],
 "metadata": {
  "kernelspec": {
   "display_name": ".venv",
   "language": "python",
   "name": "python3"
  },
  "language_info": {
   "codemirror_mode": {
    "name": "ipython",
    "version": 3
   },
   "file_extension": ".py",
   "mimetype": "text/x-python",
   "name": "python",
   "nbconvert_exporter": "python",
   "pygments_lexer": "ipython3",
   "version": "3.12.4"
  }
 },
 "nbformat": 4,
 "nbformat_minor": 2
}
