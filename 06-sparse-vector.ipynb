{
 "cells": [
  {
   "cell_type": "code",
   "execution_count": 3,
   "metadata": {},
   "outputs": [],
   "source": [
    "from pymilvus import MilvusClient, DataType\n",
    "from dotenv import load_dotenv\n",
    "import os\n",
    "\n",
    "load_dotenv()\n",
    "# https://milvus.io/docs/quickstart.md\n",
    "\n",
    "client = MilvusClient(\n",
    "    uri=os.getenv(\"MILVUS_URI\"),\n",
    "    user=os.getenv(\"MILVUS_USER\"),\n",
    "    password=os.getenv(\"MILVUS_PWD\"),\n",
    ")"
   ]
  },
  {
   "cell_type": "code",
   "execution_count": 4,
   "metadata": {},
   "outputs": [],
   "source": [
    "from scipy.sparse import csr_matrix\n",
    "\n",
    "# create a sparse matrix\n",
    "row = [0, 0, 1, 2, 2, 2]\n",
    "col = [0, 2, 2, 0, 1, 2]\n",
    "data = [1, 2, 3, 4, 5, 6]\n",
    "sparse_matrix = csr_matrix((data, (row, col)), shape=(3,3))\n",
    "\n",
    "# represent sparse vector using the sparse matrix\n",
    "sparse_vector = sparse_matrix.getrow(0)"
   ]
  },
  {
   "cell_type": "code",
   "execution_count": 6,
   "metadata": {},
   "outputs": [
    {
     "data": {
      "text/plain": [
       "{'insert_count': 2, 'ids': ['458312171707658159', '458312171707658160'], 'cost': 1}"
      ]
     },
     "execution_count": 6,
     "metadata": {},
     "output_type": "execute_result"
    }
   ],
   "source": [
    "# create schema\n",
    "schema = client.create_schema(\n",
    "    auto_id=True,\n",
    "    enbale_dynamic_fields=True,\n",
    ")\n",
    "schema.add_field(\n",
    "    field_name=\"pk\",\n",
    "    datatype=DataType.VARCHAR,\n",
    "    is_primary=True,\n",
    "    max_length=100\n",
    ")\n",
    "schema.add_field(\n",
    "    field_name=\"sparse_vector\",\n",
    "    datatype=DataType.SPARSE_FLOAT_VECTOR,\n",
    ")\n",
    "\n",
    "# create index params\n",
    "index_params = client.prepare_index_params()\n",
    "index_params.add_index(\n",
    "    field_name=\"sparse_vector\",\n",
    "    index_name=\"sparse_vector_index\",\n",
    "    index_type=\"SPARSE_INVERTED_INDEX\",\n",
    "    metric_type=\"IP\", # or BM25\n",
    "    params={\"inverted_index_algo\": \"DAAT_MAXSCORE\"} # or \"DAAT_WAND\" or \"TAAT_NAIVE\", DAAT(Document at a time), TAAT(Term at a time)\n",
    ")\n",
    "\n",
    "# create collection\n",
    "client.create_collection(\n",
    "    collection_name=\"my_col_for_sparse_vector\",\n",
    "    schema=schema,\n",
    "    index_params=index_params,\n",
    ")\n",
    "\n",
    "# insert data\n",
    "sparse_vectors = [\n",
    "    {\"sparse_vector\": {1: 0.5, 100: 0.3, 500: 0.8}},\n",
    "    {\"sparse_vector\": {10: 0.1, 200: 0.7, 1000: 0.9}},\n",
    "]\n",
    "\n",
    "client.insert(\n",
    "    collection_name=\"my_col_for_sparse_vector\",\n",
    "    data=sparse_vectors,\n",
    ")"
   ]
  },
  {
   "cell_type": "code",
   "execution_count": 10,
   "metadata": {},
   "outputs": [
    {
     "name": "stdout",
     "output_type": "stream",
     "text": [
      "data: [[{'pk': '458312171707658160', 'distance': 0.629931628704071, 'entity': {'pk': '458312171707658160'}}, {'pk': '458312171707658159', 'distance': 0.10000000149011612, 'entity': {'pk': '458312171707658159'}}]],{'cost': 6}\n"
     ]
    }
   ],
   "source": [
    "# perform similarity search\n",
    "search_params = {\n",
    "    \"params\": {\"drop_ratio_search\": 0.2}\n",
    "}\n",
    "\n",
    "query_vector = [{1: 0.2, 50: 0.4, 1000: 0.7}]\n",
    "\n",
    "res = client.search(\n",
    "    collection_name=\"my_col_for_sparse_vector\",\n",
    "    data=query_vector,\n",
    "    search_params=search_params,\n",
    "    limit=3,\n",
    "    output_fields=[\"pk\"],\n",
    ")\n",
    "\n",
    "print(res)"
   ]
  }
 ],
 "metadata": {
  "kernelspec": {
   "display_name": ".venv",
   "language": "python",
   "name": "python3"
  },
  "language_info": {
   "codemirror_mode": {
    "name": "ipython",
    "version": 3
   },
   "file_extension": ".py",
   "mimetype": "text/x-python",
   "name": "python",
   "nbconvert_exporter": "python",
   "pygments_lexer": "ipython3",
   "version": "3.12.4"
  }
 },
 "nbformat": 4,
 "nbformat_minor": 2
}
