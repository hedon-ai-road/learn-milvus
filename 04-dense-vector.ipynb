{
 "cells": [
  {
   "cell_type": "code",
   "execution_count": 5,
   "metadata": {},
   "outputs": [],
   "source": [
    "from pymilvus import MilvusClient, DataType\n",
    "from dotenv import load_dotenv\n",
    "import os\n",
    "\n",
    "load_dotenv()\n",
    "# https://milvus.io/docs/quickstart.md\n",
    "\n",
    "client = MilvusClient(\n",
    "    uri=os.getenv(\"MILVUS_URI\"),\n",
    "    user=os.getenv(\"MILVUS_USER\"),\n",
    "    password=os.getenv(\"MILVUS_PWD\"),\n",
    ")"
   ]
  },
  {
   "cell_type": "code",
   "execution_count": 6,
   "metadata": {},
   "outputs": [
    {
     "data": {
      "text/plain": [
       "{'insert_count': 2, 'ids': ['458312171705069301', '458312171705069302'], 'cost': 1}"
      ]
     },
     "execution_count": 6,
     "metadata": {},
     "output_type": "execute_result"
    }
   ],
   "source": [
    "# create schema\n",
    "schema = client.create_schema(\n",
    "    auto_id=True,\n",
    "    enbale_dynamic_fields=True,\n",
    ")\n",
    "\n",
    "schema.add_field(\n",
    "    field_name=\"pk\",\n",
    "    datatype=DataType.VARCHAR,\n",
    "    is_primary=True,\n",
    "    max_length=100,\n",
    ")\n",
    "schema.add_field(\n",
    "    field_name=\"dense_vector\",\n",
    "    datatype=DataType.FLOAT_VECTOR,\n",
    "    dim=4,\n",
    ")\n",
    "\n",
    "# set index param for vector field\n",
    "index_params = client.prepare_index_params()\n",
    "index_params.add_index(\n",
    "    field_name=\"dense_vector\",\n",
    "    index_name=\"dense_vector_index\",\n",
    "    index_type=\"AUTOINDEX\",\n",
    "    metric_type=\"IP\",\n",
    ")\n",
    "\n",
    "# create collection\n",
    "client.create_collection(\n",
    "    collection_name=\"my_collection_for_dense_vector\",\n",
    "    schema=schema,\n",
    "    index_params=index_params,\n",
    ")\n",
    "\n",
    "# insert data\n",
    "data = [\n",
    "    {\"dense_vector\": [0.1, 0.2, 0.3, 0.7]},\n",
    "    {\"dense_vector\": [0.2, 0.3, 0.4, 0.8]},\n",
    "]\n",
    "client.insert(\n",
    "    collection_name=\"my_collection_for_dense_vector\",\n",
    "    data=data,\n",
    ")"
   ]
  },
  {
   "cell_type": "code",
   "execution_count": 7,
   "metadata": {},
   "outputs": [
    {
     "name": "stdout",
     "output_type": "stream",
     "text": [
      "data: [[{'pk': '458312171705069302', 'distance': 0.7599999904632568, 'entity': {'pk': '458312171705069302'}}, {'pk': '458312171705069301', 'distance': 0.6299999952316284, 'entity': {'pk': '458312171705069301'}}]],{'cost': 6}\n"
     ]
    }
   ],
   "source": [
    "# perform similarity search\n",
    "search_params = {\n",
    "    \"params\": {\"nprobe\": 10}\n",
    "}\n",
    "query_vector = [0.1, 0.2, 0.3, 0.7]\n",
    "\n",
    "res = client.search(\n",
    "    collection_name=\"my_collection_for_dense_vector\",\n",
    "    data=[query_vector],\n",
    "    anns_field=\"dense_vector\",\n",
    "    search_params=search_params,\n",
    "    limit=5,\n",
    "    output_fields=[\"pk\"],\n",
    ")\n",
    "\n",
    "print(res)"
   ]
  }
 ],
 "metadata": {
  "kernelspec": {
   "display_name": ".venv",
   "language": "python",
   "name": "python3"
  },
  "language_info": {
   "codemirror_mode": {
    "name": "ipython",
    "version": 3
   },
   "file_extension": ".py",
   "mimetype": "text/x-python",
   "name": "python",
   "nbconvert_exporter": "python",
   "pygments_lexer": "ipython3",
   "version": "3.12.4"
  }
 },
 "nbformat": 4,
 "nbformat_minor": 2
}
